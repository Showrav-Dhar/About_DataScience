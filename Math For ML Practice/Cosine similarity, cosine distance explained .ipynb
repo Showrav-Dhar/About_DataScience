{
 "cells": [
  {
   "cell_type": "markdown",
   "id": "f08d2f42",
   "metadata": {},
   "source": [
    "## This video is used to learn this concept\n",
    "###### <href>https://www.youtube.com/watch?v=m_CooIRM3UI&list=PLeo1K3hjS3uuKaU2nBDwr6zrSOTzNCs0l&index=8</href>\n",
    "\n",
    "#### cosine_similarity is the cosine of an angle between two vectors\n",
    "#### cosine_distance =  1 - cosine_similarity"
   ]
  },
  {
   "cell_type": "code",
   "execution_count": 4,
   "id": "f4251531",
   "metadata": {},
   "outputs": [],
   "source": [
    "from sklearn.metrics.pairwise import cosine_similarity, cosine_distances"
   ]
  },
  {
   "cell_type": "code",
   "execution_count": 7,
   "id": "ea778704",
   "metadata": {},
   "outputs": [
    {
     "data": {
      "text/plain": [
       "array([[1.]])"
      ]
     },
     "execution_count": 7,
     "metadata": {},
     "output_type": "execute_result"
    }
   ],
   "source": [
    "cosine_similarity([[3,1]],[[6,2]]) # have to pass 2 , 2-D array as arguments"
   ]
  },
  {
   "cell_type": "code",
   "execution_count": 8,
   "id": "c297ac26",
   "metadata": {},
   "outputs": [
    {
     "data": {
      "text/plain": [
       "array([[1.11022302e-16]])"
      ]
     },
     "execution_count": 8,
     "metadata": {},
     "output_type": "execute_result"
    }
   ],
   "source": [
    "cosine_distances([[3,1]],[[6,2]])\n",
    "# the output distance is very close to 0, which means the vectors are very close to each other"
   ]
  },
  {
   "cell_type": "code",
   "execution_count": 9,
   "id": "df2cb738",
   "metadata": {},
   "outputs": [],
   "source": [
    "# now working with string, like working with real document,\n",
    "# here we are working to differentiate between apple documents and samsung documents\n",
    "# by the help of wordcount"
   ]
  },
  {
   "cell_type": "code",
   "execution_count": 18,
   "id": "9d269ff9",
   "metadata": {},
   "outputs": [],
   "source": [
    "doc1 = \"\"\"\n",
    "iphone sales contributed to 70% of revenue. iphone demand is increasing by 20% yoy. \n",
    "the main competitor phone galaxy recorded 5% less growth compared to iphone\"\n",
    "\"\"\"\n",
    "# wordcount on document 1, iphone = 3,galaxy = 1\n",
    "doc2 = \"\"\"\n",
    "The upside pressure on volumes for the iPhone 12 series, historical outperformance \n",
    "in the July-September time period heading into launch event, and further catalysts in relation\n",
    "to outperformance for iPhone 13 volumes relative to lowered investor expectations implies a \n",
    "very attractive set up for the shares.\n",
    "\"\"\"\n",
    "# wordcount on document 2, iphone = 2,galaxy = 0\n",
    "doc3 = \"\"\"\n",
    "samsung's flagship product galaxy is able to penetrate more into asian markets compared to\n",
    "iphone. galaxy is redesigned with new look that appeals young demographics. 60% of samsung revenues\n",
    "are coming from galaxy phone sales\n",
    "\"\"\"\n",
    "# wordcount on document 3, iphone = 1,galaxy = 3\n",
    "doc4 = \"\"\"\n",
    "Samsung Electronics unveils its Galaxy S21 flagship, with modest spec improvements \n",
    "and a significantly lower price point. Galaxy S21 price is lower by ~20% (much like the iPhone 12A), \n",
    "which highlights Samsung's focus on boosting shipments and regaining market share.\n",
    "\"\"\"\n",
    "# wordcount on document 4, iphone = 1,galaxy = 2"
   ]
  },
  {
   "cell_type": "code",
   "execution_count": 19,
   "id": "e150c3eb",
   "metadata": {},
   "outputs": [
    {
     "data": {
      "text/html": [
       "<div>\n",
       "<style scoped>\n",
       "    .dataframe tbody tr th:only-of-type {\n",
       "        vertical-align: middle;\n",
       "    }\n",
       "\n",
       "    .dataframe tbody tr th {\n",
       "        vertical-align: top;\n",
       "    }\n",
       "\n",
       "    .dataframe thead th {\n",
       "        text-align: right;\n",
       "    }\n",
       "</style>\n",
       "<table border=\"1\" class=\"dataframe\">\n",
       "  <thead>\n",
       "    <tr style=\"text-align: right;\">\n",
       "      <th></th>\n",
       "      <th>iPhone</th>\n",
       "      <th>Samsung</th>\n",
       "    </tr>\n",
       "  </thead>\n",
       "  <tbody>\n",
       "    <tr>\n",
       "      <th>doc1</th>\n",
       "      <td>3</td>\n",
       "      <td>1</td>\n",
       "    </tr>\n",
       "    <tr>\n",
       "      <th>doc2</th>\n",
       "      <td>2</td>\n",
       "      <td>0</td>\n",
       "    </tr>\n",
       "    <tr>\n",
       "      <th>doc3</th>\n",
       "      <td>1</td>\n",
       "      <td>3</td>\n",
       "    </tr>\n",
       "    <tr>\n",
       "      <th>doc4</th>\n",
       "      <td>1</td>\n",
       "      <td>2</td>\n",
       "    </tr>\n",
       "  </tbody>\n",
       "</table>\n",
       "</div>"
      ],
      "text/plain": [
       "      iPhone  Samsung\n",
       "doc1       3        1\n",
       "doc2       2        0\n",
       "doc3       1        3\n",
       "doc4       1        2"
      ]
     },
     "execution_count": 19,
     "metadata": {},
     "output_type": "execute_result"
    }
   ],
   "source": [
    "import pandas as pd \n",
    "\n",
    "df = pd.DataFrame(\n",
    "    [\n",
    "        {'iPhone':3,'Samsung':1},\n",
    "        {'iPhone':2,'Samsung':0},\n",
    "        {'iPhone':1,'Samsung':3},\n",
    "        {'iPhone':1,'Samsung':2},\n",
    "    ],\n",
    "    index=[\n",
    "        \"doc1\",\n",
    "        \"doc2\",\n",
    "        \"doc3\",\n",
    "        \"doc4\"\n",
    "    ]\n",
    "    )\n",
    "df"
   ]
  },
  {
   "cell_type": "code",
   "execution_count": 20,
   "id": "25aeb3b6",
   "metadata": {},
   "outputs": [
    {
     "data": {
      "text/html": [
       "<div>\n",
       "<style scoped>\n",
       "    .dataframe tbody tr th:only-of-type {\n",
       "        vertical-align: middle;\n",
       "    }\n",
       "\n",
       "    .dataframe tbody tr th {\n",
       "        vertical-align: top;\n",
       "    }\n",
       "\n",
       "    .dataframe thead th {\n",
       "        text-align: right;\n",
       "    }\n",
       "</style>\n",
       "<table border=\"1\" class=\"dataframe\">\n",
       "  <thead>\n",
       "    <tr style=\"text-align: right;\">\n",
       "      <th></th>\n",
       "      <th>iPhone</th>\n",
       "      <th>Samsung</th>\n",
       "    </tr>\n",
       "  </thead>\n",
       "  <tbody>\n",
       "    <tr>\n",
       "      <th>doc1</th>\n",
       "      <td>3</td>\n",
       "      <td>1</td>\n",
       "    </tr>\n",
       "  </tbody>\n",
       "</table>\n",
       "</div>"
      ],
      "text/plain": [
       "      iPhone  Samsung\n",
       "doc1       3        1"
      ]
     },
     "execution_count": 20,
     "metadata": {},
     "output_type": "execute_result"
    }
   ],
   "source": [
    "df.loc[\"doc1\":\"doc1\"]"
   ]
  },
  {
   "cell_type": "code",
   "execution_count": 21,
   "id": "ca7f6ec5",
   "metadata": {},
   "outputs": [
    {
     "data": {
      "text/plain": [
       "array([[0.9486833]])"
      ]
     },
     "execution_count": 21,
     "metadata": {},
     "output_type": "execute_result"
    }
   ],
   "source": [
    "cosine_similarity(df.loc[\"doc1\":\"doc1\"],df.loc[\"doc2\":\"doc2\"])"
   ]
  },
  {
   "cell_type": "code",
   "execution_count": 22,
   "id": "8a003cb3",
   "metadata": {},
   "outputs": [
    {
     "data": {
      "text/plain": [
       "array([[0.6]])"
      ]
     },
     "execution_count": 22,
     "metadata": {},
     "output_type": "execute_result"
    }
   ],
   "source": [
    "cosine_similarity(df.loc[\"doc1\":\"doc1\"],df.loc[\"doc3\":\"doc3\"])"
   ]
  },
  {
   "cell_type": "code",
   "execution_count": 23,
   "id": "4b6e1d2e",
   "metadata": {},
   "outputs": [
    {
     "data": {
      "text/plain": [
       "array([[0.4]])"
      ]
     },
     "execution_count": 23,
     "metadata": {},
     "output_type": "execute_result"
    }
   ],
   "source": [
    "cosine_distances(df.loc[\"doc1\":\"doc1\"],df.loc[\"doc3\":\"doc3\"])\n"
   ]
  },
  {
   "cell_type": "code",
   "execution_count": null,
   "id": "19659481",
   "metadata": {},
   "outputs": [],
   "source": []
  }
 ],
 "metadata": {
  "kernelspec": {
   "display_name": "Python 3 (ipykernel)",
   "language": "python",
   "name": "python3"
  },
  "language_info": {
   "codemirror_mode": {
    "name": "ipython",
    "version": 3
   },
   "file_extension": ".py",
   "mimetype": "text/x-python",
   "name": "python",
   "nbconvert_exporter": "python",
   "pygments_lexer": "ipython3",
   "version": "3.11.5"
  },
  "varInspector": {
   "cols": {
    "lenName": 16,
    "lenType": 16,
    "lenVar": 40
   },
   "kernels_config": {
    "python": {
     "delete_cmd_postfix": "",
     "delete_cmd_prefix": "del ",
     "library": "var_list.py",
     "varRefreshCmd": "print(var_dic_list())"
    },
    "r": {
     "delete_cmd_postfix": ") ",
     "delete_cmd_prefix": "rm(",
     "library": "var_list.r",
     "varRefreshCmd": "cat(var_dic_list()) "
    }
   },
   "types_to_exclude": [
    "module",
    "function",
    "builtin_function_or_method",
    "instance",
    "_Feature"
   ],
   "window_display": false
  }
 },
 "nbformat": 4,
 "nbformat_minor": 5
}
