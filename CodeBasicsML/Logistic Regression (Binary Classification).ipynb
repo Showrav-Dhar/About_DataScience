{
 "cells": [
  {
   "cell_type": "markdown",
   "id": "d7fa942e",
   "metadata": {},
   "source": [
    "### Logistic Regression (Binary Classification)\n",
    "``` Logistic regression - Logistic regression is a supervised learning algorithm used for binary classification problems. It estimates the probability of an event happening based on a set of independent variables (features).```\n",
    "\n",
    "it's designed to predict the likelihood of an event falling into one of two categories.\n",
    "For example, predicting whether an email is spam (category 1) or not spam (category 2)\n",
    "\n",
    "***Sigmoid Function:*** Logistic regression uses the sigmoid function (also called logistic function) to map the linear combination of features to a probability value between 0 and 1.\n",
    "\n",
    "***Decision Threshold***: A threshold value (typically 0.5) is used to classify the data point. If the predicted probability from the sigmoid function is greater than the threshold, it's classified as belonging to class 1. Otherwise, it's classified as class 2."
   ]
  },
  {
   "cell_type": "code",
   "execution_count": null,
   "id": "2553c5b7",
   "metadata": {},
   "outputs": [],
   "source": []
  }
 ],
 "metadata": {
  "kernelspec": {
   "display_name": "Python 3 (ipykernel)",
   "language": "python",
   "name": "python3"
  },
  "language_info": {
   "codemirror_mode": {
    "name": "ipython",
    "version": 3
   },
   "file_extension": ".py",
   "mimetype": "text/x-python",
   "name": "python",
   "nbconvert_exporter": "python",
   "pygments_lexer": "ipython3",
   "version": "3.11.5"
  },
  "varInspector": {
   "cols": {
    "lenName": 16,
    "lenType": 16,
    "lenVar": 40
   },
   "kernels_config": {
    "python": {
     "delete_cmd_postfix": "",
     "delete_cmd_prefix": "del ",
     "library": "var_list.py",
     "varRefreshCmd": "print(var_dic_list())"
    },
    "r": {
     "delete_cmd_postfix": ") ",
     "delete_cmd_prefix": "rm(",
     "library": "var_list.r",
     "varRefreshCmd": "cat(var_dic_list()) "
    }
   },
   "types_to_exclude": [
    "module",
    "function",
    "builtin_function_or_method",
    "instance",
    "_Feature"
   ],
   "window_display": false
  }
 },
 "nbformat": 4,
 "nbformat_minor": 5
}
