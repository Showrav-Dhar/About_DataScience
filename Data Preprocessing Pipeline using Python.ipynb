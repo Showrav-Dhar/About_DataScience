{
 "cells": [
  {
   "cell_type": "markdown",
   "id": "13f565e3",
   "metadata": {},
   "source": [
    "# Data Preprocessing\n",
    "##### It involves transforming and manipulating raw data to improve its quality, consistency, and relevance for analysis. \n",
    "##### It encompasses several tasks\n",
    "   <li>including handling missing values.\n",
    "   <li>standardizing variables.\n",
    "   <li>removing outliers."
   ]
  },
  {
   "cell_type": "code",
   "execution_count": 1,
   "id": "ab8f9e66",
   "metadata": {},
   "outputs": [],
   "source": [
    "import pandas as pd \n",
    "import numpy as np\n",
    "from sklearn.preprocessing import StandardScaler"
   ]
  },
  {
   "cell_type": "code",
   "execution_count": 23,
   "id": "495877b5",
   "metadata": {},
   "outputs": [],
   "source": [
    "def data_pre_processing_pipeline(input_data):\n",
    "    \n",
    "    # feature means input data\n",
    "    numeric_features = input_data.select_dtypes(include=['float','int']).columns\n",
    "#     Selecting numeric features:\n",
    "#     The select_dtypes method is used to select columns that have data types of either 'float' or 'int'. The result is stored in the numeric_features variable.\n",
    "    catagorical_features = input_data.select_dtypes(include=['object']).columns\n",
    "#     categorical features:\n",
    "#     The select_dtypes method is used again, this time to select columns that have the data type 'object'. The result is stored in the categorical_features variable.\n",
    "    \n",
    "    # Handling missing values in numeric features\n",
    "    input_data[numeric_features] = input_data[numeric_features].fillna(input_data[numeric_features].mean())\n",
    "    # filling the missing value with mean\n",
    "    \n",
    "    # Detecting and handling missing value in the numeric_features using IQR \n",
    "    # as we are working with every column, so we have to eliminate outliers of every \n",
    "    # column in the data set so we are using loop to iterate through every columns\n",
    "    \n",
    "    for feature in numeric_features:\n",
    "        Q1 = input_data[feature].quantile(0.25) # taking 25% of every feature\n",
    "        Q3 = input_data[feature].quantile(0.75) # taking 75% of every feature\n",
    "        IQR = Q3 - Q1\n",
    "        lower_bound = Q1 - (1.5*IQR)\n",
    "        upper_bound = Q3 + (1.5*IQR)\n",
    "        input_data[feature] = np.where((input_data[feature]<lower_bound) | (input_data[feature]>upper_bound),\n",
    "                                       input_data[feature].mean,# if there is outlier then,those will be filled by the mean \n",
    "                                       input_data[feature] #if there is no outlier,then the data will not be changed\n",
    "                                      )\n",
    "       \n",
    "    # np.where - it is a numpy funtion\n",
    "    # Condition: The Boolean mask identifying outliers.\n",
    "    # Value if condition is True: input_data[feature].mean(), meaning if the condition is True (a value is an outlier), replace it with the mean of the feature column.\n",
    "    # Value if condition is False: input_data[feature], meaning if the condition is False (a value is within the bounds), keep the original value.\n",
    "        \n",
    "        #Normalizing numeric features\n",
    "        scaler = StandardScaler() # Standardize features by removing the mean and scaling to unit variance. uses Z score\n",
    "        scaled_data = scaler.fit_transform(input_data[numeric_features])\n",
    "        input_data[numeric_features] = scaler.transform(input_data[numeric_features])\n",
    "#         In essence, above three line:\n",
    "#         Standardizes the numeric features in a DataFrame using the StandardScaler.\n",
    "#         Ensures each feature has a mean of 0 and a standard deviation of 1.\n",
    "#         Helps improve the performance and convergence of many machine learning algorithms, as features are on a comparable scale.\n",
    "        \n",
    "        #Handling missing values in categorical features\n",
    "        input_data[catagorical_features] = input_data[catagorical_features].fillna(input_data[catagorical_features].mode().iloc[0])\n",
    "        \n",
    "        \n",
    "        return input_data"
   ]
  },
  {
   "cell_type": "code",
   "execution_count": 26,
   "id": "9fff41c1",
   "metadata": {},
   "outputs": [
    {
     "name": "stdout",
     "output_type": "stream",
     "text": [
      "Orginal Data\n"
     ]
    },
    {
     "data": {
      "text/html": [
       "<div>\n",
       "<style scoped>\n",
       "    .dataframe tbody tr th:only-of-type {\n",
       "        vertical-align: middle;\n",
       "    }\n",
       "\n",
       "    .dataframe tbody tr th {\n",
       "        vertical-align: top;\n",
       "    }\n",
       "\n",
       "    .dataframe thead th {\n",
       "        text-align: right;\n",
       "    }\n",
       "</style>\n",
       "<table border=\"1\" class=\"dataframe\">\n",
       "  <thead>\n",
       "    <tr style=\"text-align: right;\">\n",
       "      <th></th>\n",
       "      <th>NumericFeature1</th>\n",
       "      <th>NumericFeature2</th>\n",
       "      <th>CategoricalFeature</th>\n",
       "    </tr>\n",
       "  </thead>\n",
       "  <tbody>\n",
       "    <tr>\n",
       "      <th>0</th>\n",
       "      <td>1.0</td>\n",
       "      <td>7</td>\n",
       "      <td>A</td>\n",
       "    </tr>\n",
       "    <tr>\n",
       "      <th>1</th>\n",
       "      <td>2.0</td>\n",
       "      <td>8</td>\n",
       "      <td>B</td>\n",
       "    </tr>\n",
       "    <tr>\n",
       "      <th>2</th>\n",
       "      <td>NaN</td>\n",
       "      <td>9</td>\n",
       "      <td>NaN</td>\n",
       "    </tr>\n",
       "    <tr>\n",
       "      <th>3</th>\n",
       "      <td>4.0</td>\n",
       "      <td>10</td>\n",
       "      <td>A</td>\n",
       "    </tr>\n",
       "    <tr>\n",
       "      <th>4</th>\n",
       "      <td>5.0</td>\n",
       "      <td>11</td>\n",
       "      <td>B</td>\n",
       "    </tr>\n",
       "    <tr>\n",
       "      <th>5</th>\n",
       "      <td>6.0</td>\n",
       "      <td>50</td>\n",
       "      <td>C</td>\n",
       "    </tr>\n",
       "  </tbody>\n",
       "</table>\n",
       "</div>"
      ],
      "text/plain": [
       "   NumericFeature1  NumericFeature2 CategoricalFeature\n",
       "0              1.0                7                  A\n",
       "1              2.0                8                  B\n",
       "2              NaN                9                NaN\n",
       "3              4.0               10                  A\n",
       "4              5.0               11                  B\n",
       "5              6.0               50                  C"
      ]
     },
     "execution_count": 26,
     "metadata": {},
     "output_type": "execute_result"
    }
   ],
   "source": [
    "data = pd.read_csv('/Users/admin/PycharmProjects/About_DataScience/excel_data_sets/dip_Stat.csv')\n",
    "print(\"Orginal Data\")\n",
    "data"
   ]
  },
  {
   "cell_type": "code",
   "execution_count": 32,
   "id": "43cce599",
   "metadata": {},
   "outputs": [
    {
     "data": {
      "text/html": [
       "<div>\n",
       "<style scoped>\n",
       "    .dataframe tbody tr th:only-of-type {\n",
       "        vertical-align: middle;\n",
       "    }\n",
       "\n",
       "    .dataframe tbody tr th {\n",
       "        vertical-align: top;\n",
       "    }\n",
       "\n",
       "    .dataframe thead th {\n",
       "        text-align: right;\n",
       "    }\n",
       "</style>\n",
       "<table border=\"1\" class=\"dataframe\">\n",
       "  <thead>\n",
       "    <tr style=\"text-align: right;\">\n",
       "      <th></th>\n",
       "      <th>NumericFeature1</th>\n",
       "      <th>NumericFeature2</th>\n",
       "    </tr>\n",
       "  </thead>\n",
       "  <tbody>\n",
       "    <tr>\n",
       "      <th>count</th>\n",
       "      <td>6.000000e+00</td>\n",
       "      <td>6.000000</td>\n",
       "    </tr>\n",
       "    <tr>\n",
       "      <th>mean</th>\n",
       "      <td>-3.700743e-17</td>\n",
       "      <td>0.000000</td>\n",
       "    </tr>\n",
       "    <tr>\n",
       "      <th>std</th>\n",
       "      <td>1.095445e+00</td>\n",
       "      <td>1.095445</td>\n",
       "    </tr>\n",
       "    <tr>\n",
       "      <th>min</th>\n",
       "      <td>-1.535624e+00</td>\n",
       "      <td>-0.576053</td>\n",
       "    </tr>\n",
       "    <tr>\n",
       "      <th>25%</th>\n",
       "      <td>-7.087493e-01</td>\n",
       "      <td>-0.494536</td>\n",
       "    </tr>\n",
       "    <tr>\n",
       "      <th>50%</th>\n",
       "      <td>1.181249e-01</td>\n",
       "      <td>-0.413019</td>\n",
       "    </tr>\n",
       "    <tr>\n",
       "      <th>75%</th>\n",
       "      <td>6.792181e-01</td>\n",
       "      <td>-0.331502</td>\n",
       "    </tr>\n",
       "    <tr>\n",
       "      <th>max</th>\n",
       "      <td>1.417499e+00</td>\n",
       "      <td>2.228129</td>\n",
       "    </tr>\n",
       "  </tbody>\n",
       "</table>\n",
       "</div>"
      ],
      "text/plain": [
       "       NumericFeature1  NumericFeature2\n",
       "count     6.000000e+00         6.000000\n",
       "mean     -3.700743e-17         0.000000\n",
       "std       1.095445e+00         1.095445\n",
       "min      -1.535624e+00        -0.576053\n",
       "25%      -7.087493e-01        -0.494536\n",
       "50%       1.181249e-01        -0.413019\n",
       "75%       6.792181e-01        -0.331502\n",
       "max       1.417499e+00         2.228129"
      ]
     },
     "execution_count": 32,
     "metadata": {},
     "output_type": "execute_result"
    }
   ],
   "source": [
    "data.describe()"
   ]
  },
  {
   "cell_type": "code",
   "execution_count": 27,
   "id": "086c9562",
   "metadata": {},
   "outputs": [
    {
     "name": "stdout",
     "output_type": "stream",
     "text": [
      "Preprocessed Data:\n",
      "   NumericFeature1  NumericFeature2 CategoricalFeature\n",
      "0        -1.535624        -0.576053                  A\n",
      "1        -0.944999        -0.510839                  B\n",
      "2         0.000000        -0.445626                  A\n",
      "3         0.236250        -0.380412                  A\n",
      "4         0.826874        -0.315199                  B\n",
      "5         1.417499         2.228129                  C\n"
     ]
    }
   ],
   "source": [
    "# performing pre-processing\n",
    "cleaned_data = data_pre_processing_pipeline(data)\n",
    "print(\"Preprocessed Data:\")\n",
    "print(cleaned_data)"
   ]
  },
  {
   "cell_type": "code",
   "execution_count": 31,
   "id": "a2ceffe2",
   "metadata": {},
   "outputs": [
    {
     "data": {
      "text/html": [
       "<div>\n",
       "<style scoped>\n",
       "    .dataframe tbody tr th:only-of-type {\n",
       "        vertical-align: middle;\n",
       "    }\n",
       "\n",
       "    .dataframe tbody tr th {\n",
       "        vertical-align: top;\n",
       "    }\n",
       "\n",
       "    .dataframe thead th {\n",
       "        text-align: right;\n",
       "    }\n",
       "</style>\n",
       "<table border=\"1\" class=\"dataframe\">\n",
       "  <thead>\n",
       "    <tr style=\"text-align: right;\">\n",
       "      <th></th>\n",
       "      <th>NumericFeature1</th>\n",
       "      <th>NumericFeature2</th>\n",
       "    </tr>\n",
       "  </thead>\n",
       "  <tbody>\n",
       "    <tr>\n",
       "      <th>count</th>\n",
       "      <td>6.000000e+00</td>\n",
       "      <td>6.000000</td>\n",
       "    </tr>\n",
       "    <tr>\n",
       "      <th>mean</th>\n",
       "      <td>-3.700743e-17</td>\n",
       "      <td>0.000000</td>\n",
       "    </tr>\n",
       "    <tr>\n",
       "      <th>std</th>\n",
       "      <td>1.095445e+00</td>\n",
       "      <td>1.095445</td>\n",
       "    </tr>\n",
       "    <tr>\n",
       "      <th>min</th>\n",
       "      <td>-1.535624e+00</td>\n",
       "      <td>-0.576053</td>\n",
       "    </tr>\n",
       "    <tr>\n",
       "      <th>25%</th>\n",
       "      <td>-7.087493e-01</td>\n",
       "      <td>-0.494536</td>\n",
       "    </tr>\n",
       "    <tr>\n",
       "      <th>50%</th>\n",
       "      <td>1.181249e-01</td>\n",
       "      <td>-0.413019</td>\n",
       "    </tr>\n",
       "    <tr>\n",
       "      <th>75%</th>\n",
       "      <td>6.792181e-01</td>\n",
       "      <td>-0.331502</td>\n",
       "    </tr>\n",
       "    <tr>\n",
       "      <th>max</th>\n",
       "      <td>1.417499e+00</td>\n",
       "      <td>2.228129</td>\n",
       "    </tr>\n",
       "  </tbody>\n",
       "</table>\n",
       "</div>"
      ],
      "text/plain": [
       "       NumericFeature1  NumericFeature2\n",
       "count     6.000000e+00         6.000000\n",
       "mean     -3.700743e-17         0.000000\n",
       "std       1.095445e+00         1.095445\n",
       "min      -1.535624e+00        -0.576053\n",
       "25%      -7.087493e-01        -0.494536\n",
       "50%       1.181249e-01        -0.413019\n",
       "75%       6.792181e-01        -0.331502\n",
       "max       1.417499e+00         2.228129"
      ]
     },
     "execution_count": 31,
     "metadata": {},
     "output_type": "execute_result"
    }
   ],
   "source": [
    "cleaned_data.describe()"
   ]
  },
  {
   "cell_type": "code",
   "execution_count": null,
   "id": "21e131cb",
   "metadata": {},
   "outputs": [],
   "source": []
  },
  {
   "cell_type": "code",
   "execution_count": null,
   "id": "4dbbd54d",
   "metadata": {},
   "outputs": [],
   "source": []
  },
  {
   "cell_type": "code",
   "execution_count": null,
   "id": "80ae0dc4",
   "metadata": {},
   "outputs": [],
   "source": []
  },
  {
   "cell_type": "code",
   "execution_count": null,
   "id": "5d23b9d5",
   "metadata": {},
   "outputs": [],
   "source": []
  },
  {
   "cell_type": "code",
   "execution_count": null,
   "id": "6e61f61c",
   "metadata": {},
   "outputs": [],
   "source": []
  }
 ],
 "metadata": {
  "kernelspec": {
   "display_name": "Python 3 (ipykernel)",
   "language": "python",
   "name": "python3"
  },
  "language_info": {
   "codemirror_mode": {
    "name": "ipython",
    "version": 3
   },
   "file_extension": ".py",
   "mimetype": "text/x-python",
   "name": "python",
   "nbconvert_exporter": "python",
   "pygments_lexer": "ipython3",
   "version": "3.11.5"
  },
  "varInspector": {
   "cols": {
    "lenName": 16,
    "lenType": 16,
    "lenVar": 40
   },
   "kernels_config": {
    "python": {
     "delete_cmd_postfix": "",
     "delete_cmd_prefix": "del ",
     "library": "var_list.py",
     "varRefreshCmd": "print(var_dic_list())"
    },
    "r": {
     "delete_cmd_postfix": ") ",
     "delete_cmd_prefix": "rm(",
     "library": "var_list.r",
     "varRefreshCmd": "cat(var_dic_list()) "
    }
   },
   "types_to_exclude": [
    "module",
    "function",
    "builtin_function_or_method",
    "instance",
    "_Feature"
   ],
   "window_display": false
  }
 },
 "nbformat": 4,
 "nbformat_minor": 5
}
