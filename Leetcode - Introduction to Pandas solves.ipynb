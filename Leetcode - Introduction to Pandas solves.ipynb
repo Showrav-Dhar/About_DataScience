{
 "cells": [
  {
   "cell_type": "markdown",
   "id": "1b59c765",
   "metadata": {},
   "source": [
    "## Task 1 - 2877. Create a DataFrame from List"
   ]
  },
  {
   "cell_type": "code",
   "execution_count": null,
   "id": "6edd4451",
   "metadata": {},
   "outputs": [],
   "source": [
    "import pandas as pd\n",
    "import numpy as np\n",
    "def createDataframe(student_data: List[List[int]]) -> pd.DataFrame:\n",
    "    df = pd.DataFrame(student_data,columns=['student_id','age'])\n",
    "    return df"
   ]
  },
  {
   "cell_type": "markdown",
   "id": "334357ee",
   "metadata": {},
   "source": [
    "## Task 2 - 2878. Get the Size of a DataFrame"
   ]
  },
  {
   "cell_type": "code",
   "execution_count": null,
   "id": "471f9acf",
   "metadata": {},
   "outputs": [],
   "source": [
    "import pandas as pd\n",
    "\n",
    "def getDataframeSize(players: pd.DataFrame) -> List[int]:\n",
    "    li = list(players.shape)\n",
    "    return li"
   ]
  },
  {
   "cell_type": "markdown",
   "id": "eda6e2ec",
   "metadata": {},
   "source": [
    "## Task 3 - 2879. Display the First Three Rows"
   ]
  },
  {
   "cell_type": "code",
   "execution_count": null,
   "id": "69b47efa",
   "metadata": {},
   "outputs": [],
   "source": [
    "import pandas as pd\n",
    "\n",
    "def selectFirstRows(employees: pd.DataFrame) -> pd.DataFrame:\n",
    "    return employees.head(3)"
   ]
  },
  {
   "cell_type": "markdown",
   "id": "6485a6a3",
   "metadata": {},
   "source": [
    "## Task 4 - 2880. Select Data"
   ]
  },
  {
   "cell_type": "code",
   "execution_count": null,
   "id": "5f5fbe16",
   "metadata": {},
   "outputs": [],
   "source": [
    "import pandas as pd\n",
    "\n",
    "def selectData(students: pd.DataFrame) -> pd.DataFrame:\n",
    "    return students[[\"name\",'age']][students.student_id==101]"
   ]
  },
  {
   "cell_type": "markdown",
   "id": "60573e89",
   "metadata": {},
   "source": [
    "## Task 5 - 2881. Create a New Column"
   ]
  },
  {
   "cell_type": "code",
   "execution_count": null,
   "id": "a71f3c6d",
   "metadata": {},
   "outputs": [],
   "source": [
    "import pandas as pd\n",
    "\n",
    "def createBonusColumn(employees: pd.DataFrame) -> pd.DataFrame:\n",
    "    employees['bonus'] = employees['salary']*2\n",
    "    return employees"
   ]
  },
  {
   "cell_type": "markdown",
   "id": "473fc098",
   "metadata": {},
   "source": [
    "## Task 6 - 2882. Drop Duplicate Rows"
   ]
  },
  {
   "cell_type": "code",
   "execution_count": null,
   "id": "279815ed",
   "metadata": {},
   "outputs": [],
   "source": [
    "import pandas as pd\n",
    "\n",
    "def dropDuplicateEmails(customers: pd.DataFrame) -> pd.DataFrame:\n",
    "    new_df = customers.drop_duplicates(subset='email',keep='first')\n",
    "    return new_df"
   ]
  },
  {
   "cell_type": "markdown",
   "id": "e9db71c4",
   "metadata": {},
   "source": [
    "## Task 7 - 2883. Drop Missing Data"
   ]
  },
  {
   "cell_type": "code",
   "execution_count": null,
   "id": "210ae6a6",
   "metadata": {},
   "outputs": [],
   "source": [
    "import pandas as pd\n",
    "\n",
    "def dropMissingData(students: pd.DataFrame) -> pd.DataFrame:\n",
    "    new_df = students.dropna(subset='name')\n",
    "    return new_df"
   ]
  },
  {
   "cell_type": "markdown",
   "id": "6815c9d2",
   "metadata": {},
   "source": [
    "## Task 8 - 2884. Modify Columns"
   ]
  },
  {
   "cell_type": "code",
   "execution_count": null,
   "id": "fc57ba1a",
   "metadata": {},
   "outputs": [],
   "source": [
    "import pandas as pd\n",
    "def modifySalaryColumn(employees: pd.DataFrame) -> pd.DataFrame:\n",
    "   employees['salary'] *= 2\n",
    "   return employees"
   ]
  },
  {
   "cell_type": "markdown",
   "id": "7ee4a3ad",
   "metadata": {},
   "source": [
    "## Task 9 - 2885. Rename Columns"
   ]
  },
  {
   "cell_type": "code",
   "execution_count": null,
   "id": "8cb27598",
   "metadata": {},
   "outputs": [],
   "source": [
    "import pandas as pd\n",
    "\n",
    "def renameColumns(students: pd.DataFrame) -> pd.DataFrame:\n",
    "    df = students\n",
    "    df.rename(columns={\n",
    "        'id' : \"student_id\",\n",
    "        'first':\"first_name\",\n",
    "        'last':\"last_name\",\n",
    "        'age' : \"age_in_years\",\n",
    "    },inplace =True)\n",
    "    return df"
   ]
  },
  {
   "cell_type": "markdown",
   "id": "d06c8e40",
   "metadata": {},
   "source": [
    "## Task 10 - 2886. Change Data Type"
   ]
  },
  {
   "cell_type": "code",
   "execution_count": null,
   "id": "c8deab34",
   "metadata": {},
   "outputs": [],
   "source": [
    "import pandas as pd\n",
    "\n",
    "def changeDatatype(students: pd.DataFrame) -> pd.DataFrame:\n",
    "   students['grade'] = students['grade'].astype('int64')\n",
    "   return students"
   ]
  },
  {
   "cell_type": "markdown",
   "id": "446713ff",
   "metadata": {},
   "source": [
    "## Task 11 - 2887. Fill Missing Data"
   ]
  },
  {
   "cell_type": "code",
   "execution_count": null,
   "id": "da4742fa",
   "metadata": {},
   "outputs": [],
   "source": [
    "import pandas as pd\n",
    "\n",
    "def fillMissingValues(products: pd.DataFrame) -> pd.DataFrame:\n",
    "    products['quantity'] = products['quantity'].fillna(0)\n",
    "    return products"
   ]
  },
  {
   "cell_type": "markdown",
   "id": "1e4bdb28",
   "metadata": {},
   "source": [
    "## Task 12 - 2888. Reshape Data: Concatenate"
   ]
  },
  {
   "cell_type": "code",
   "execution_count": null,
   "id": "8a064fbc",
   "metadata": {},
   "outputs": [],
   "source": [
    "import pandas as pd\n",
    "\n",
    "def concatenateTables(df1: pd.DataFrame, df2: pd.DataFrame) -> pd.DataFrame:\n",
    "    new_df = pd.concat([df1,df2])\n",
    "    return new_df"
   ]
  },
  {
   "cell_type": "markdown",
   "id": "b52de8b0",
   "metadata": {},
   "source": [
    "## Task 13 - 2889. Reshape Data: Pivot"
   ]
  },
  {
   "cell_type": "code",
   "execution_count": null,
   "id": "08cbe3ff",
   "metadata": {},
   "outputs": [],
   "source": [
    "import pandas as pd\n",
    "\n",
    "def pivotTable(weather: pd.DataFrame) -> pd.DataFrame:\n",
    "    new_df = weather.pivot(index='month',columns='city',values='temperature')\n",
    "    return new_df"
   ]
  },
  {
   "cell_type": "markdown",
   "id": "a072f46e",
   "metadata": {},
   "source": [
    "## Task 14 - 2890. Reshape Data: Melt"
   ]
  },
  {
   "cell_type": "code",
   "execution_count": null,
   "id": "6d10382e",
   "metadata": {},
   "outputs": [],
   "source": [
    "import pandas as pd\n",
    "\n",
    "def meltTable(report: pd.DataFrame) -> pd.DataFrame:\n",
    "    new_df = pd.melt(\n",
    "        report,\n",
    "        id_vars=['product'],\n",
    "        value_vars=['quarter_1','quarter_2','quarter_3','quarter_4'],\n",
    "        var_name = 'quarter',value_name = 'sales'\n",
    "        )\n",
    "    return new_df"
   ]
  },
  {
   "cell_type": "markdown",
   "id": "441bfbbf",
   "metadata": {},
   "source": [
    "## Task 15 - 2891. Method Chaining"
   ]
  },
  {
   "cell_type": "code",
   "execution_count": null,
   "id": "4337123e",
   "metadata": {},
   "outputs": [],
   "source": [
    "import pandas as pd\n",
    "\n",
    "def findHeavyAnimals(animals: pd.DataFrame) -> pd.DataFrame:\n",
    "    #filtered the df \n",
    "    filtered_animals = animals[animals.weight>100]\n",
    "    #sorted the df in descending order\n",
    "    sorted_animals = filtered_animals.sort_values(by='weight',ascending=False)\n",
    "    new_df = pd.DataFrame(sorted_animals['name'])\n",
    "    return new_df\n"
   ]
  },
  {
   "cell_type": "code",
   "execution_count": null,
   "id": "d4f50cb3",
   "metadata": {},
   "outputs": [],
   "source": []
  },
  {
   "cell_type": "code",
   "execution_count": null,
   "id": "93667b23",
   "metadata": {},
   "outputs": [],
   "source": []
  },
  {
   "cell_type": "code",
   "execution_count": null,
   "id": "90107e17",
   "metadata": {},
   "outputs": [],
   "source": []
  },
  {
   "cell_type": "code",
   "execution_count": null,
   "id": "14ecaff4",
   "metadata": {},
   "outputs": [],
   "source": []
  }
 ],
 "metadata": {
  "kernelspec": {
   "display_name": "Python 3 (ipykernel)",
   "language": "python",
   "name": "python3"
  },
  "language_info": {
   "codemirror_mode": {
    "name": "ipython",
    "version": 3
   },
   "file_extension": ".py",
   "mimetype": "text/x-python",
   "name": "python",
   "nbconvert_exporter": "python",
   "pygments_lexer": "ipython3",
   "version": "3.11.5"
  },
  "varInspector": {
   "cols": {
    "lenName": 16,
    "lenType": 16,
    "lenVar": 40
   },
   "kernels_config": {
    "python": {
     "delete_cmd_postfix": "",
     "delete_cmd_prefix": "del ",
     "library": "var_list.py",
     "varRefreshCmd": "print(var_dic_list())"
    },
    "r": {
     "delete_cmd_postfix": ") ",
     "delete_cmd_prefix": "rm(",
     "library": "var_list.r",
     "varRefreshCmd": "cat(var_dic_list()) "
    }
   },
   "types_to_exclude": [
    "module",
    "function",
    "builtin_function_or_method",
    "instance",
    "_Feature"
   ],
   "window_display": false
  }
 },
 "nbformat": 4,
 "nbformat_minor": 5
}
